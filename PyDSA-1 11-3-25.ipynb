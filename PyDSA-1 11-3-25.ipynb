{
 "cells": [
  {
   "cell_type": "code",
   "execution_count": 1,
   "metadata": {},
   "outputs": [
    {
     "name": "stdout",
     "output_type": "stream",
     "text": [
      "[4, 6, 8, 10]\n"
     ]
    }
   ],
   "source": [
    "l1 = [2,3,4,5]\n",
    "l2 = []\n",
    "\n",
    "for ele in l1:\n",
    "    l2.append(ele*2)\n",
    "print(l2)"
   ]
  },
  {
   "cell_type": "code",
   "execution_count": 2,
   "metadata": {},
   "outputs": [
    {
     "data": {
      "text/plain": [
       "[4, 6, 8, 10]"
      ]
     },
     "execution_count": 2,
     "metadata": {},
     "output_type": "execute_result"
    }
   ],
   "source": [
    "a = [2,3,4,5]\n",
    "b = [val * 2 for val in a]\n",
    "b"
   ]
  },
  {
   "cell_type": "code",
   "execution_count": 3,
   "metadata": {},
   "outputs": [
    {
     "data": {
      "text/plain": [
       "[2, 4]"
      ]
     },
     "execution_count": 3,
     "metadata": {},
     "output_type": "execute_result"
    }
   ],
   "source": [
    "l1 = [1,2,3,4,5]\n",
    "even = [x for x in l1 if x % 2 == 0]\n",
    "even"
   ]
  },
  {
   "cell_type": "code",
   "execution_count": 4,
   "metadata": {},
   "outputs": [
    {
     "data": {
      "text/plain": [
       "[(0, 0), (0, 1), (0, 2), (1, 0), (1, 1), (1, 2), (2, 0), (2, 1), (2, 2)]"
      ]
     },
     "execution_count": 4,
     "metadata": {},
     "output_type": "execute_result"
    }
   ],
   "source": [
    "coordinates = [(x,y) for x in range(3) for y in range(3)]\n",
    "coordinates"
   ]
  },
  {
   "cell_type": "code",
   "execution_count": 5,
   "metadata": {},
   "outputs": [
    {
     "name": "stdout",
     "output_type": "stream",
     "text": [
      "7  14  21  28  35  42  49  56  63  70  77  84  91  98  105  112  119  126  133  140  147  154  161  168  175  182  189  196  203  210  217  224  231  238  245  252  259  266  273  280  287  294  301  308  315  322  329  336  343  350  357  364  371  378  385  392  399  406  413  420  427  434  441  448  455  462  469  476  483  490  497  504  511  518  525  532  539  546  553  560  567  574  581  588  595  602  609  616  623  630  637  644  651  658  665  672  679  686  693  700  707  714  721  728  735  742  749  756  763  770  777  784  791  798  805  812  819  826  833  840  847  854  861  868  875  882  889  896  903  910  917  924  931  938  945  952  959  966  973  980  987  994\n"
     ]
    }
   ],
   "source": [
    "div = [x for x in range(1,1001) if x % 7 == 0]\n",
    "print(*div, sep = '  ')"
   ]
  },
  {
   "cell_type": "code",
   "execution_count": 6,
   "metadata": {},
   "outputs": [
    {
     "name": "stdout",
     "output_type": "stream",
     "text": [
      "['3', '13', '23', '30', '31', '32', '33', '34', '35', '36', '37', '38', '39', '43', '53', '63', '73', '83', '93', '103', '113', '123', '130', '131', '132', '133', '134', '135', '136', '137', '138', '139', '143', '153', '163', '173', '183', '193', '203', '213', '223', '230', '231', '232', '233', '234', '235', '236', '237', '238', '239', '243', '253', '263', '273', '283', '293', '300', '301', '302', '303', '304', '305', '306', '307', '308', '309', '310', '311', '312', '313', '314', '315', '316', '317', '318', '319', '320', '321', '322', '323', '324', '325', '326', '327', '328', '329', '330', '331', '332', '333', '334', '335', '336', '337', '338', '339', '340', '341', '342', '343', '344', '345', '346', '347', '348', '349', '350', '351', '352', '353', '354', '355', '356', '357', '358', '359', '360', '361', '362', '363', '364', '365', '366', '367', '368', '369', '370', '371', '372', '373', '374', '375', '376', '377', '378', '379', '380', '381', '382', '383', '384', '385', '386', '387', '388', '389', '390', '391', '392', '393', '394', '395', '396', '397', '398', '399', '403', '413', '423', '430', '431', '432', '433', '434', '435', '436', '437', '438', '439', '443', '453', '463', '473', '483', '493', '503', '513', '523', '530', '531', '532', '533', '534', '535', '536', '537', '538', '539', '543', '553', '563', '573', '583', '593', '603', '613', '623', '630', '631', '632', '633', '634', '635', '636', '637', '638', '639', '643', '653', '663', '673', '683', '693', '703', '713', '723', '730', '731', '732', '733', '734', '735', '736', '737', '738', '739', '743', '753', '763', '773', '783', '793', '803', '813', '823', '830', '831', '832', '833', '834', '835', '836', '837', '838', '839', '843', '853', '863', '873', '883', '893', '903', '913', '923', '930', '931', '932', '933', '934', '935', '936', '937', '938', '939', '943', '953', '963', '973', '983', '993']\n"
     ]
    }
   ],
   "source": [
    "div = [str(x) for x in range(1,1001) if '3' in str(x)]\n",
    "print(div)"
   ]
  },
  {
   "cell_type": "code",
   "execution_count": 7,
   "metadata": {},
   "outputs": [
    {
     "name": "stdout",
     "output_type": "stream",
     "text": [
      "['Y', 'l', 'l', 'w', ' ', 'Y', 's', 'k', ' ', 'l', 'k', ' ', 'y', 'l', 'l', 'n', 'g', ' ', 'n', 'd', ' ', 'y', 'w', 'n', 'n', 'g', ' ', 'n', 'd', ' ', 'y', 's', 't', 'r', 'd', 'y', ' ', 't', 'h', 'y', ' ', 'y', 'd', 'l', 'd', ' ', 'w', 'h', 't', ' ', 't', 'n', 'g', ' ', 'y', 'k', 'y', ' ', 'y', 'm', 's']\n"
     ]
    }
   ],
   "source": [
    "st1 = 'Yellow Yask like yelling and yawning and yesturday they yodled white eating yuky yams'\n",
    "print([x for x in st1 if x.lower() not in 'aeiou'])"
   ]
  },
  {
   "cell_type": "code",
   "execution_count": 8,
   "metadata": {},
   "outputs": [
    {
     "name": "stdout",
     "output_type": "stream",
     "text": [
      "0 even\n",
      "1 odd\n",
      "2 even\n",
      "3 odd\n",
      "4 even\n",
      "5 odd\n",
      "6 even\n",
      "7 odd\n",
      "8 even\n",
      "9 odd\n",
      "10 even\n",
      "11 odd\n",
      "12 even\n",
      "13 odd\n",
      "14 even\n",
      "15 odd\n",
      "16 even\n",
      "17 odd\n",
      "18 even\n",
      "19 odd\n",
      "20 even\n"
     ]
    }
   ],
   "source": [
    "div = [f'{x} even' if x%2==0 else f'{x} odd' for x in range(21)]\n",
    "print(*div, sep = '\\n')"
   ]
  },
  {
   "cell_type": "code",
   "execution_count": null,
   "metadata": {},
   "outputs": [],
   "source": []
  }
 ],
 "metadata": {
  "kernelspec": {
   "display_name": "base",
   "language": "python",
   "name": "python3"
  },
  "language_info": {
   "codemirror_mode": {
    "name": "ipython",
    "version": 3
   },
   "file_extension": ".py",
   "mimetype": "text/x-python",
   "name": "python",
   "nbconvert_exporter": "python",
   "pygments_lexer": "ipython3",
   "version": "3.12.7"
  }
 },
 "nbformat": 4,
 "nbformat_minor": 2
}
