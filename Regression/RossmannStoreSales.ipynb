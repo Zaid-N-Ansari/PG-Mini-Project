{
 "cells": [
  {
   "cell_type": "markdown",
   "id": "b9515de6",
   "metadata": {},
   "source": [
    "# Import necesarry libraries and modules"
   ]
  },
  {
   "cell_type": "code",
   "execution_count": null,
   "id": "ba29f504",
   "metadata": {},
   "outputs": [],
   "source": [
    "import pandas as pd\n",
    "import numpy as np\n",
    "import seaborn as sns\n",
    "from warnings import filterwarnings"
   ]
  },
  {
   "cell_type": "markdown",
   "id": "77329537",
   "metadata": {},
   "source": [
    "\n",
    "## Setup some basic settings for the notebook"
   ]
  },
  {
   "cell_type": "code",
   "execution_count": 8,
   "id": "3c8b583a",
   "metadata": {},
   "outputs": [],
   "source": [
    "filterwarnings('ignore')\n",
    "sns.set_theme(context='notebook', style='darkgrid', palette='Paired', font='sans-serif', font_scale=1)\n",
    "\n",
    "# 'MPL_QUAL_PALS': {'tab10': 10,\n",
    "# \t'tab20': 20,\n",
    "# \t'tab20b': 20,\n",
    "# \t'tab20c': 20,\n",
    "# \t'Set1': 9,\n",
    "# \t'Set2': 8,\n",
    "# \t'Set3': 12,\n",
    "# \t'Accent': 8,\n",
    "# \t'Paired': 12,\n",
    "# \t'Pastel1': 9,\n",
    "# \t'Pastel2': 8,\n",
    "# \t'Dark2': 8},\n",
    "\n",
    "# 'QUAL_PALETTES': ['tab10',\n",
    "# \t'tab20',\n",
    "# \t'tab20b',\n",
    "# \t'tab20c',\n",
    "# \t'Set1',\n",
    "# \t'Set2',\n",
    "# \t'Set3',\n",
    "# \t'Accent',\n",
    "# \t'Paired',\n",
    "# \t'Pastel1',\n",
    "# \t'Pastel2',\n",
    "# \t'Dark2',\n",
    "# \t'deep',\n",
    "# \t'deep6',\n",
    "# \t'muted',\n",
    "# \t'muted6',\n",
    "# \t'pastel',\n",
    "# \t'pastel6',\n",
    "# \t'bright',\n",
    "# \t'bright6',\n",
    "# \t'dark',\n",
    "# \t'dark6',\n",
    "# \t'colorblind',\n",
    "# \t'colorblind6'\n"
   ]
  },
  {
   "cell_type": "code",
   "execution_count": null,
   "id": "806a1bc3",
   "metadata": {},
   "outputs": [],
   "source": []
  },
  {
   "cell_type": "code",
   "execution_count": null,
   "id": "16a2640d",
   "metadata": {},
   "outputs": [],
   "source": []
  },
  {
   "cell_type": "code",
   "execution_count": null,
   "id": "64a99f53",
   "metadata": {},
   "outputs": [],
   "source": []
  },
  {
   "cell_type": "code",
   "execution_count": null,
   "id": "5304c749",
   "metadata": {},
   "outputs": [],
   "source": []
  },
  {
   "cell_type": "code",
   "execution_count": null,
   "id": "e005924e",
   "metadata": {},
   "outputs": [],
   "source": []
  },
  {
   "cell_type": "code",
   "execution_count": null,
   "id": "99bce5c4",
   "metadata": {},
   "outputs": [],
   "source": []
  },
  {
   "cell_type": "code",
   "execution_count": null,
   "id": "6dc9ad90",
   "metadata": {},
   "outputs": [],
   "source": []
  }
 ],
 "metadata": {
  "kernelspec": {
   "display_name": "Python 3",
   "language": "python",
   "name": "python3"
  },
  "language_info": {
   "codemirror_mode": {
    "name": "ipython",
    "version": 3
   },
   "file_extension": ".py",
   "mimetype": "text/x-python",
   "name": "python",
   "nbconvert_exporter": "python",
   "pygments_lexer": "ipython3",
   "version": "3.12.3"
  }
 },
 "nbformat": 4,
 "nbformat_minor": 5
}
