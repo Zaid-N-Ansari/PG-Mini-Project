{
 "cells": [
  {
   "cell_type": "code",
   "execution_count": null,
   "id": "806a1bc3",
   "metadata": {},
   "outputs": [],
   "source": [
    "# training_data = pd.read_csv('https://raw.githubusercontent.com/Zaid-N-Ansari/PG-Mini-Project/refs/heads/main/Data/RossmannStoreSales/train.csv')\n",
    "training_data = pd.read_csv('../Data/RossmannStoreSales/train.csv')\n",
    "training_data.head()"
   ]
  },
  {
   "cell_type": "code",
   "execution_count": null,
   "id": "15e10fef",
   "metadata": {},
   "outputs": [],
   "source": [
    "# testing_data = pd.read_csv('https://raw.githubusercontent.com/Zaid-N-Ansari/PG-Mini-Project/refs/heads/main/Data/RossmannStoreSales/test.csv')\n",
    "testing_data = pd.read_csv('../Data/RossmannStoreSales/test.csv')\n",
    "testing_data.head()"
   ]
  },
  {
   "cell_type": "code",
   "execution_count": null,
   "id": "16a2640d",
   "metadata": {},
   "outputs": [],
   "source": [
    "# store_data = pd.read_csv('https://raw.githubusercontent.com/Zaid-N-Ansari/PG-Mini-Project/refs/heads/main/Data/RossmannStoreSales/store.csv')\n",
    "store_data = pd.read_csv('../Data/RossmannStoreSales/store.csv')\n",
    "store_data"
   ]
  },
  {
   "cell_type": "code",
   "execution_count": null,
   "id": "64a99f53",
   "metadata": {},
   "outputs": [],
   "source": [
    "training_data = training_data.merge(store_data, how='left', on='Store')\n",
    "training_data"
   ]
  },
  {
   "cell_type": "code",
   "execution_count": null,
   "id": "5304c749",
   "metadata": {},
   "outputs": [],
   "source": [
    "testing_data = testing_data.merge(store_data, how='left', on='Store')\n",
    "testing_data"
   ]
  },
  {
   "cell_type": "code",
   "execution_count": null,
   "id": "966f7829",
   "metadata": {},
   "outputs": [],
   "source": [
    "training_data.info()"
   ]
  },
  {
   "cell_type": "code",
   "execution_count": null,
   "id": "37819457",
   "metadata": {},
   "outputs": [],
   "source": [
    "training_data['Store'] = training_data['Store'].astype(object)\n",
    "training_data['Open'] = training_data['Open'].astype(object)\n",
    "training_data['Promo'] = training_data['Promo'].astype(object)\n",
    "training_data['Promo2'] = training_data['Promo2'].astype(object)\n",
    "training_data['SchoolHoliday'] = training_data['SchoolHoliday'].astype(object)\n",
    "training_data.info()"
   ]
  },
  {
   "cell_type": "code",
   "execution_count": null,
   "id": "eddecaa6",
   "metadata": {},
   "outputs": [],
   "source": [
    "testing_data.info()"
   ]
  },
  {
   "cell_type": "code",
   "execution_count": null,
   "id": "0fbdee43",
   "metadata": {},
   "outputs": [],
   "source": [
    "testing_data['Store'] = testing_data['Store'].astype(object)\n",
    "testing_data['Open'] = testing_data['Open'].astype(object)\n",
    "testing_data['Promo'] = testing_data['Promo'].astype(object)\n",
    "testing_data['Promo2'] = testing_data['Promo2'].astype(object)\n",
    "testing_data['SchoolHoliday'] = testing_data['SchoolHoliday'].astype(object)\n",
    "testing_data.info()"
   ]
  },
  {
   "cell_type": "markdown",
   "id": "1739549a",
   "metadata": {},
   "source": [
    "\n",
    "# Understanding Individual Column Distributions\n"
   ]
  },
  {
   "cell_type": "markdown",
   "id": "68e70c1e",
   "metadata": {},
   "source": [
    "\n",
    "## 1. Histograms (Numerical)\n"
   ]
  },
  {
   "cell_type": "markdown",
   "id": "e806638e",
   "metadata": {},
   "source": [
    "\n",
    "## 2. Box Plots (Numerical) - for Outlier Detection\n"
   ]
  },
  {
   "cell_type": "code",
   "execution_count": null,
   "id": "5b3a671a",
   "metadata": {},
   "outputs": [],
   "source": [
    "for col in numerical_columns:\n",
    "    plt.figure()\n",
    "    sns.boxplot(y=training_data[col].dropna())\n",
    "    plt.title(f'Box Plot of {col}')\n",
    "    plt.ylabel(col)\n",
    "    plt.show()"
   ]
  },
  {
   "cell_type": "markdown",
   "id": "8ee04a1a",
   "metadata": {},
   "source": [
    "\n",
    "## 3. Count Plots / Bar Charts (Categorical)\n"
   ]
  },
  {
   "cell_type": "code",
   "execution_count": null,
   "id": "b3069011",
   "metadata": {},
   "outputs": [],
   "source": [
    "for col in ['StateHoliday', 'SchoolHoliday', 'StoreType']:\n",
    "    plt.figure()\n",
    "    sns.countplot(x=training_data[col].astype(str), order=training_data[col].astype(str).value_counts().index)\n",
    "    plt.title(f'Counts of {col}')\n",
    "    plt.xlabel(col)\n",
    "    plt.ylabel('Count')\n",
    "    plt.show()"
   ]
  },
  {
   "cell_type": "markdown",
   "id": "4fc9c199",
   "metadata": {},
   "source": [
    "\n",
    "## 4. Value counts for PromoInterval (which is a string)\n"
   ]
  },
  {
   "cell_type": "code",
   "execution_count": null,
   "id": "7daae953",
   "metadata": {},
   "outputs": [],
   "source": [
    "sns.countplot(x=training_data['PromoInterval'], order=training_data['PromoInterval'].value_counts().index)\n",
    "plt.title('Counts of PromoInterval')\n",
    "plt.xlabel('Promo Interval')\n",
    "plt.ylabel('Count')\n",
    "plt.tight_layout()\n",
    "plt.show()"
   ]
  },
  {
   "cell_type": "markdown",
   "id": "64f121f3",
   "metadata": {},
   "source": [
    "\n",
    "# Exploring Relationships Between Two Variables\n"
   ]
  },
  {
   "cell_type": "markdown",
   "id": "65b59003",
   "metadata": {},
   "source": [
    "\n",
    "## 1. Scatter Plots (Numerical vs. Numerical)\n"
   ]
  },
  {
   "cell_type": "code",
   "execution_count": null,
   "id": "d3623488",
   "metadata": {},
   "outputs": [],
   "source": [
    "plt.figure(figsize=(10, 6))\n",
    "sns.scatterplot(x='Customers', y='Sales', data=training_data)\n",
    "plt.title('Sales vs. Customers')\n",
    "plt.xlabel('Number of Customers')\n",
    "plt.ylabel('Sales')\n",
    "plt.show()\n",
    "\n",
    "plt.figure(figsize=(10, 6))\n",
    "sns.scatterplot(x='CompetitionDistance', y='Sales', data=training_data.dropna(subset=['CompetitionDistance']))\n",
    "plt.title('Sales vs. CompetitionDistance')\n",
    "plt.xlabel('Competition Distance')\n",
    "plt.ylabel('Sales')\n",
    "plt.show()\n",
    "\n",
    "plt.figure(figsize=(12, 8))\n",
    "sns.scatterplot(x='Customers', y='Sales', hue='StoreType', data=training_data, alpha=0.7)\n",
    "plt.title('Sales vs. Customers by Store Type')\n",
    "plt.xlabel('Number of Customers')\n",
    "plt.ylabel('Sales')\n",
    "plt.legend(title='Store Type')\n",
    "plt.show()"
   ]
  },
  {
   "cell_type": "markdown",
   "id": "cdf25803",
   "metadata": {},
   "source": [
    "\n",
    "## 2. Correlation Heatmap\n"
   ]
  },
  {
   "cell_type": "code",
   "execution_count": null,
   "id": "eb55db6e",
   "metadata": {},
   "outputs": [],
   "source": [
    "plt.figure(figsize=(12, 10))\n",
    "corr_matrix = training_data[numerical_columns].corr()\n",
    "sns.heatmap(corr_matrix, annot=True, cmap='Accent', fmt=\".2f\", linewidths=.5)\n",
    "plt.title('Correlation Matrix of Numerical Features')\n",
    "plt.show()"
   ]
  },
  {
   "cell_type": "markdown",
   "id": "5feb8f0a",
   "metadata": {},
   "source": [
    "\n",
    "# Time-Series Specific Visualizations (Crucial for Sales Data)\n"
   ]
  },
  {
   "cell_type": "markdown",
   "id": "83053e38",
   "metadata": {},
   "source": [
    "\n",
    "### Pre-processing for time-series plots: Aggregate daily sales\n"
   ]
  },
  {
   "cell_type": "code",
   "execution_count": null,
   "id": "ca47d216",
   "metadata": {},
   "outputs": [],
   "source": [
    "copy_training_data = training_data.copy()\n",
    "copy_training_data = copy_training_data[copy_training_data['Sales'] > 0]\n",
    "\n",
    "copy_training_data['Date'] = pd.to_datetime(copy_training_data['Date'])\n",
    "copy_training_data['Month'] = copy_training_data['Date'].dt.month\n",
    "copy_training_data['Year'] = copy_training_data['Date'].dt.year\n",
    "copy_training_data['date'] = copy_training_data['Date'].dt.day\n",
    "copy_training_data['DayOfWeekName'] = copy_training_data['Date'].dt.day_name()\n",
    "copy_training_data['MonthName'] = copy_training_data['Date'].dt.month_name()\n",
    "\n",
    "sales_by_year = copy_training_data.groupby(copy_training_data['Year'])['Sales'].sum().reset_index()\n",
    "sales_by_year.columns = ['Year', 'Sales']\n",
    "\n",
    "sales_by_month = copy_training_data.groupby([copy_training_data['Year'], copy_training_data['Month']])['Sales'].sum().reset_index()\n",
    "sales_by_month.columns = ['Year', 'Month', 'Sales']\n",
    "\n",
    "sales_by_week = copy_training_data.groupby([copy_training_data['Year'], copy_training_data['Date'].dt.isocalendar().week])['Sales'].sum().reset_index()\n",
    "sales_by_week.columns = ['Year', 'Week', 'Sales']"
   ]
  },
  {
   "cell_type": "markdown",
   "id": "aae348ec",
   "metadata": {},
   "source": [
    "\n",
    "## 1. Line Plot: Total Daily Sales Over Time\n"
   ]
  },
  {
   "cell_type": "code",
   "execution_count": null,
   "id": "0fd01fe8",
   "metadata": {},
   "outputs": [],
   "source": [
    "plt.plot(sales_by_year['Year'].astype(str), sales_by_year['Sales'], marker='o')\n",
    "plt.title('Total Sales by Year')\n",
    "plt.xlabel('Year')\n",
    "plt.ylabel('Total Sales')\n",
    "plt.grid(True)\n",
    "plt.show()\n",
    "sales_by_year"
   ]
  },
  {
   "cell_type": "code",
   "execution_count": null,
   "id": "96c57a37",
   "metadata": {},
   "outputs": [],
   "source": [
    "sns.lineplot(data=sales_by_month, x='Month', y='Sales', hue='Year', palette='Set1')\n",
    "plt.title('Total Sales by Month (per Year)')\n",
    "plt.xlabel('Month')\n",
    "plt.ylabel('Total Sales')\n",
    "plt.xticks(range(1, 13), ['Jan', 'Feb', 'Mar', 'Apr', 'May', 'Jun', 'Jul', 'Aug', 'Sep', 'Oct', 'Nov', 'Dec'])\n",
    "plt.grid(True)\n",
    "plt.show()\n",
    "sales_by_month"
   ]
  },
  {
   "cell_type": "code",
   "execution_count": null,
   "id": "ab143b29",
   "metadata": {},
   "outputs": [],
   "source": [
    "sns.lineplot(data=sales_by_week, x='Week', y='Sales', hue='Year', palette='tab10')\n",
    "plt.title('Total Sales by Week (per Year)')\n",
    "plt.xlabel('Week of Year')\n",
    "plt.ylabel('Total Sales')\n",
    "plt.xticks(range(1, 53, 3))\n",
    "plt.grid(True)\n",
    "plt.show()\n",
    "sales_by_week"
   ]
  },
  {
   "cell_type": "markdown",
   "id": "326291a3",
   "metadata": {},
   "source": [
    "\n",
    "## 2. Seasonal / Subseries Plots\n"
   ]
  },
  {
   "cell_type": "code",
   "execution_count": null,
   "id": "8f8c0675",
   "metadata": {},
   "outputs": [],
   "source": [
    "sns.boxplot(x='DayOfWeekName', y='Sales', data=copy_training_data.sort_values('DayOfWeek'), order=['Monday', 'Tuesday', 'Wednesday', 'Thursday', 'Friday', 'Saturday', 'Sunday'])\n",
    "plt.title('Sales Distribution by Day of Week')\n",
    "plt.xlabel('Day of Week')\n",
    "plt.ylabel('Sales')\n",
    "plt.show()"
   ]
  },
  {
   "cell_type": "code",
   "execution_count": null,
   "id": "76f409f2",
   "metadata": {},
   "outputs": [],
   "source": [
    "sns.boxplot(x='MonthName', y='Sales', data=copy_training_data.sort_values('Month'))\n",
    "plt.title('Sales Distribution by Month of Year')\n",
    "plt.xlabel('Month')\n",
    "plt.ylabel('Sales')\n",
    "plt.show()"
   ]
  },
  {
   "cell_type": "code",
   "execution_count": null,
   "id": "9a2e56e6",
   "metadata": {},
   "outputs": [],
   "source": [
    "sns.boxplot(x='Year', y='Sales', data=copy_training_data)\n",
    "plt.title('Sales Distribution by Year')\n",
    "plt.xlabel('Year')\n",
    "plt.ylabel('Sales')\n",
    "plt.show()"
   ]
  },
  {
   "cell_type": "markdown",
   "id": "62f481c5",
   "metadata": {},
   "source": [
    "\n",
    "# Multi-Variate Visualizations\n"
   ]
  },
  {
   "cell_type": "markdown",
   "id": "c87bc5a7",
   "metadata": {},
   "source": [
    "\n",
    "## 3. Sales vs. Customers by Promotion Status\n"
   ]
  },
  {
   "cell_type": "code",
   "execution_count": null,
   "id": "d4704541",
   "metadata": {},
   "outputs": [],
   "source": [
    "g_holiday = sns.FacetGrid(data=copy_training_data, col='Promo_Status', col_wrap=2, height=5, aspect=1.2, sharey=True)\n",
    "g_holiday.map_dataframe(sns.scatterplot, x='Customers', y='Sales', alpha=0.8, hue='StateHoliday')\n",
    "g_holiday.add_legend(title='State Holiday')\n",
    "g_holiday.set_titles(\"Promo: {col_name}\")\n",
    "plt.suptitle('Sales vs. Customers by Promotion Status (Colored by State Holiday)', y=1.02)\n",
    "plt.show()"
   ]
  },
  {
   "cell_type": "markdown",
   "id": "14a3d494",
   "metadata": {},
   "source": [
    "# Specific Domain-Driven Visualizations"
   ]
  },
  {
   "cell_type": "markdown",
   "id": "f60dfaba",
   "metadata": {},
   "source": [
    "## 1. Sales/Customers during Holidays"
   ]
  },
  {
   "cell_type": "code",
   "execution_count": null,
   "id": "82fe854c",
   "metadata": {},
   "outputs": [],
   "source": [
    "sns.barplot(x='StateHoliday', y='Sales', hue='SchoolHoliday', data=copy_training_data.astype({'StateHoliday': str, 'SchoolHoliday':str}))\n",
    "plt.title('Average Sales by State and School Holiday Status')\n",
    "plt.xlabel('State Holiday')\n",
    "plt.ylabel('Average Sales')\n",
    "plt.legend(title='School Holiday')\n",
    "plt.show()"
   ]
  },
  {
   "cell_type": "markdown",
   "id": "20f0508a",
   "metadata": {},
   "source": [
    "## 2. Promo2 Impact on Sales"
   ]
  },
  {
   "cell_type": "code",
   "execution_count": null,
   "id": "ff15b9a3",
   "metadata": {},
   "outputs": [],
   "source": [
    "sns.boxplot(x='Promo2', y='Sales', data=copy_training_data)\n",
    "plt.title('Sales Distribution for Promo2 Active vs. Not Active')\n",
    "plt.xlabel('Promo2 (0: Not Active, 1: Active)')\n",
    "plt.ylabel('Sales')\n",
    "plt.show()"
   ]
  },
  {
   "cell_type": "markdown",
   "id": "db3484fa",
   "metadata": {},
   "source": [
    "## 3. Sales over time per Store Type"
   ]
  },
  {
   "cell_type": "code",
   "execution_count": null,
   "id": "da36b95f",
   "metadata": {},
   "outputs": [],
   "source": [
    "agg_storetype_sales = copy_training_data.groupby(['DayOfWeekName', 'StoreType'])['Sales'].sum().reset_index()\n",
    "plt.figure(figsize=(16, 8))\n",
    "sns.lineplot(x='DayOfWeekName', y='Sales', hue='StoreType', data=agg_storetype_sales, palette='tab10')\n",
    "plt.title('Total Daily Sales Over Time by Store Type')\n",
    "plt.xlabel('Date')\n",
    "plt.ylabel('Total Sales')\n",
    "plt.legend(title='Store Type')\n",
    "plt.show()"
   ]
  },
  {
   "cell_type": "markdown",
   "id": "0685656d",
   "metadata": {},
   "source": [
    "## 4. Average Sales per Store (Top 10 Stores)"
   ]
  },
  {
   "cell_type": "code",
   "execution_count": null,
   "id": "c1618e06",
   "metadata": {},
   "outputs": [],
   "source": [
    "avg_sales_per_store = copy_training_data.groupby('Store')['Sales'].mean().nlargest(10).index\n",
    "top_stores = copy_training_data[copy_training_data['Store'].isin(avg_sales_per_store) & (copy_training_data['Sales'] > 0)]\n",
    "plt.figure(figsize=(14, 8))\n",
    "sns.barplot(x='Store', y='Sales', data=top_stores, estimator=np.mean, order=avg_sales_per_store, palette='tab10')\n",
    "plt.title('Average Sales for Top 10 Performing Stores')\n",
    "plt.xlabel('Store ID')\n",
    "plt.ylabel('Average Sales')\n",
    "plt.show()"
   ]
  },
  {
   "cell_type": "markdown",
   "id": "bd6aafdd",
   "metadata": {},
   "source": [
    "## 5. Sales distribution per DayOfWeek and StoreType"
   ]
  },
  {
   "cell_type": "code",
   "execution_count": null,
   "id": "b776efa9",
   "metadata": {},
   "outputs": [],
   "source": [
    "sns.boxplot(x='DayOfWeekName', y='Sales', hue='StoreType', data=copy_training_data.sort_values('DayOfWeek'), order=['Monday', 'Tuesday', 'Wednesday', 'Thursday', 'Friday', 'Saturday', 'Sunday'], palette='tab10')\n",
    "plt.title('Sales Distribution by Day of Week and Store Type')\n",
    "plt.xlabel('Day of Week')\n",
    "plt.ylabel('Sales')\n",
    "plt.legend(title='Store Type', loc='upper right', bbox_to_anchor=(0.98, 1))\n",
    "plt.show()"
   ]
  }
 ],
 "metadata": {
  "kernelspec": {
   "display_name": "Python 3",
   "language": "python",
   "name": "python3"
  },
  "language_info": {
   "codemirror_mode": {
    "name": "ipython",
    "version": 3
   },
   "file_extension": ".py",
   "mimetype": "text/x-python",
   "name": "python",
   "nbconvert_exporter": "python",
   "pygments_lexer": "ipython3",
   "version": "3.12.3"
  }
 },
 "nbformat": 4,
 "nbformat_minor": 5
}
